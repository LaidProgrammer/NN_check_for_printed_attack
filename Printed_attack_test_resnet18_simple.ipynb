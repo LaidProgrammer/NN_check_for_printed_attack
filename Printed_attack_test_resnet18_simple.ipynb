{
  "nbformat": 4,
  "nbformat_minor": 0,
  "metadata": {
    "colab": {
      "name": "Printed_attack_test_resnet18_simple.ipynb",
      "provenance": [],
      "collapsed_sections": [],
      "include_colab_link": true
    },
    "kernelspec": {
      "name": "python3",
      "display_name": "Python 3"
    },
    "accelerator": "GPU"
  },
  "cells": [
    {
      "cell_type": "markdown",
      "metadata": {
        "id": "view-in-github",
        "colab_type": "text"
      },
      "source": [
        "<a href=\"https://colab.research.google.com/github/LaidProgrammer/NN_check_for_printed_attack/blob/master/Printed_attack_test_resnet18_simple.ipynb\" target=\"_parent\"><img src=\"https://colab.research.google.com/assets/colab-badge.svg\" alt=\"Open In Colab\"/></a>"
      ]
    },
    {
      "cell_type": "code",
      "metadata": {
        "id": "6nM5QhX2cFH1",
        "colab_type": "code",
        "colab": {
          "base_uri": "https://localhost:8080/",
          "height": 124
        },
        "outputId": "d53d685a-1aea-4b01-8a61-e6ae31e0c4e8"
      },
      "source": [
        "# при выполнении следующего кода откроется дополнительная страница, на которой вас попросят\n",
        "# авторизироваться в Google Drive, выдать разрешение на подключение к Colab и выдадут код\n",
        "# для подключения, который нужно скопировать в появившееся ниже поле\n",
        "from google.colab import drive\n",
        "# google drive станет доступен по пути /content/gdrive\n",
        "drive.mount('/content/gdrive')"
      ],
      "execution_count": 1,
      "outputs": [
        {
          "output_type": "stream",
          "text": [
            "Go to this URL in a browser: https://accounts.google.com/o/oauth2/auth?client_id=947318989803-6bn6qk8qdgf4n4g3pfee6491hc0brc4i.apps.googleusercontent.com&redirect_uri=urn%3aietf%3awg%3aoauth%3a2.0%3aoob&response_type=code&scope=email%20https%3a%2f%2fwww.googleapis.com%2fauth%2fdocs.test%20https%3a%2f%2fwww.googleapis.com%2fauth%2fdrive%20https%3a%2f%2fwww.googleapis.com%2fauth%2fdrive.photos.readonly%20https%3a%2f%2fwww.googleapis.com%2fauth%2fpeopleapi.readonly\n",
            "\n",
            "Enter your authorization code:\n",
            "··········\n",
            "Mounted at /content/gdrive\n"
          ],
          "name": "stdout"
        }
      ]
    },
    {
      "cell_type": "code",
      "metadata": {
        "id": "FyzizrKiht0C",
        "colab_type": "code",
        "outputId": "2099ee49-e3a6-4e65-ea58-658f5ad762b0",
        "colab": {
          "base_uri": "https://localhost:8080/",
          "height": 86
        }
      },
      "source": [
        "# просканируем файловую систему на предмет файлов с расширением JPEG\n",
        "from pathlib import Path\n",
        "import numpy as np\n",
        "\n",
        "image_train_files = list(Path('./gdrive/My Drive/Colab Notebooks/Printed_attack/train').glob('**/*.png'))\n",
        "print(f\"Found {len(image_train_files)} image train files.\")\n",
        "\n",
        "# для каждого файла нам нужно из названия папки, в которой он лежит, извлечь имя метки класса:\n",
        "image_train_labels = []\n",
        "for file in image_train_files:\n",
        "    label = file.parent.name\n",
        "    image_train_labels.append(label)\n",
        "print(f\"Found {len(image_train_labels)} image train labels, {len(np.unique(image_train_labels))} unique classes.\")\n",
        "\n",
        "image_test_files = list(Path('./gdrive/My Drive/Colab Notebooks/Printed_attack/valid').glob('**/*.png'));\n",
        "print(f\"Found {len(image_test_files)} image valid-test files.\")\n",
        "\n",
        "# для каждого файла нам нужно из названия папки, в которой он лежит, извлечь имя метки класса:\n",
        "image_test_labels = []\n",
        "for file in image_test_files:\n",
        "    label = file.parent.name\n",
        "    image_test_labels.append(label)\n",
        "print(f\"Found {len(image_test_labels)} image valid-test labels, {len(np.unique(image_test_labels))} unique classes.\")"
      ],
      "execution_count": 3,
      "outputs": [
        {
          "output_type": "stream",
          "text": [
            "Found 8334 image train files.\n",
            "Found 8334 image train labels, 2 unique classes.\n",
            "Found 1015 image valid-test files.\n",
            "Found 1015 image valid-test labels, 2 unique classes.\n"
          ],
          "name": "stdout"
        }
      ]
    },
    {
      "cell_type": "code",
      "metadata": {
        "id": "lU4nBkWdgeOv",
        "colab_type": "code",
        "colab": {}
      },
      "source": [
        "# посмотрим на несколько случайных изображений из датасета:\n",
        "from PIL import Image\n",
        "\n",
        "random_image_file = np.random.choice(image_train_files)\n",
        "image = Image.open(random_image_file)\n",
        "print(random_image_file)\n",
        "# просто вызов загруженного изображения в colab'е отобразит его\n",
        "image"
      ],
      "execution_count": 0,
      "outputs": []
    },
    {
      "cell_type": "code",
      "metadata": {
        "id": "k2dmfiYqiwZ5",
        "colab_type": "code",
        "colab": {}
      },
      "source": [
        "# нужно разделить список файлов на три выборки: тренировочную, валидационную и тестовую\n",
        "from sklearn.model_selection import train_test_split\n",
        "\n",
        "train_val_files, test_files, train_val_labels, test_labels = train_test_split(image_files, image_labels, stratify=image_labels, test_size=0.3)\n",
        "train_files, val_files = train_test_split(train_val_files, stratify=train_val_labels, test_size=0.15)\n",
        "print(f\"Splitted into: {len(train_files)} train files; {len(val_files)} validation files; {len(test_files)} test files.\")"
      ],
      "execution_count": 0,
      "outputs": []
    },
    {
      "cell_type": "code",
      "metadata": {
        "id": "Xso97nu0_fei",
        "colab_type": "code",
        "colab": {}
      },
      "source": [
        "import torch\n",
        "import torch.nn as nn\n",
        "from torch.utils.data import Dataset, DataLoader\n",
        "from sklearn.preprocessing import LabelEncoder\n",
        "from torchvision.transforms import Compose, ToTensor, Normalize\n",
        "from fastprogress import progress_bar\n",
        "\n",
        "transform = Compose([\n",
        "    ToTensor(),\n",
        "    Normalize((0.5, 0.5, 0.5), (0.5, 0.5, 0.5))\n",
        "])\n",
        "\n",
        "# пишем кастомный датасет, который загрузит наши изображения в память\n",
        "# и будет превращать их в тензоры и отдавать загрузчику\n",
        "class CustomDataset(Dataset):\n",
        "    # конструктору класса нужно знать пути к файлам, которые загружать, \n",
        "    # режим (обучение/тест) и к какому размеру масштабировать изображения\n",
        "    def __init__(self, files, mode, rescale_size):\n",
        "        super().__init__()\n",
        "        # список файлов для загрузки\n",
        "        self.files = sorted(files)\n",
        "        # режим работы\n",
        "        self.mode = mode\n",
        "        self.rescale_size = rescale_size\n",
        "        self.images = []\n",
        "        # LabelEncoder нужен для преобразования меток классов в id и обратно\n",
        "        self.label_encoder = LabelEncoder()\n",
        "        \n",
        "        # загрузка изображений в память\n",
        "        print(f\"Loading {self.mode} files\")\n",
        "        for file in progress_bar(self.files):\n",
        "            image = Image.open(file)\n",
        "            if image.mode != 'RGB':\n",
        "                image = image.convert(mode='RGB')\n",
        "            image = image.resize((self.rescale_size, self.rescale_size))\n",
        "            self.images.append(image)\n",
        "\n",
        "        if self.mode != 'test':\n",
        "            # выделяем метку из названия папки\n",
        "            self.labels = [file.parent.name for file in self.files]\n",
        "            self.label_encoder.fit(self.labels)\n",
        "\n",
        "\n",
        "    def __len__(self):\n",
        "        return len(self.files)\n",
        "  \n",
        "  \n",
        "    def __getitem__(self, index):\n",
        "        x = self.images[index]\n",
        "        x = transform(x)\n",
        "        if self.mode == 'test':\n",
        "            return x\n",
        "        else:\n",
        "            label = self.labels[index]\n",
        "            label_id = self.label_encoder.transform([label])\n",
        "            y = label_id.item()\n",
        "            return x, y"
      ],
      "execution_count": 0,
      "outputs": []
    },
    {
      "cell_type": "code",
      "metadata": {
        "id": "9bmrDkyBpxAo",
        "colab_type": "code",
        "outputId": "2e587eac-4f56-4c77-fe91-66ce8cdde3c0",
        "colab": {
          "base_uri": "https://localhost:8080/",
          "height": 54
        }
      },
      "source": [
        "train_dataset = CustomDataset(files=image_train_files, mode='train', rescale_size=196)\n",
        "val_dataset = CustomDataset(files=image_test_files, mode='val', rescale_size=196)\n",
        "test_dataset = CustomDataset(files=image_test_files, mode='test', rescale_size=196)"
      ],
      "execution_count": 0,
      "outputs": [
        {
          "output_type": "stream",
          "text": [
            "Loading train files\n"
          ],
          "name": "stdout"
        },
        {
          "output_type": "display_data",
          "data": {
            "text/html": [
              "\n",
              "    <div>\n",
              "        <style>\n",
              "            /* Turns off some styling */\n",
              "            progress {\n",
              "                /* gets rid of default border in Firefox and Opera. */\n",
              "                border: none;\n",
              "                /* Needs to be in here for Safari polyfill so background images work as expected. */\n",
              "                background-size: auto;\n",
              "            }\n",
              "            .progress-bar-interrupted, .progress-bar-interrupted::-webkit-progress-bar {\n",
              "                background: #F44336;\n",
              "            }\n",
              "        </style>\n",
              "      <progress value='6317' class='' max='8334', style='width:300px; height:20px; vertical-align: middle;'></progress>\n",
              "      75.80% [6317/8334 57:16<18:17]\n",
              "    </div>\n",
              "    "
            ],
            "text/plain": [
              "<IPython.core.display.HTML object>"
            ]
          },
          "metadata": {
            "tags": []
          }
        }
      ]
    },
    {
      "cell_type": "code",
      "metadata": {
        "id": "jnEwwTAh-NMn",
        "colab_type": "code",
        "colab": {}
      },
      "source": [
        "class ShallowCNN(nn.Module):\n",
        "    \n",
        "    def __init__(self, n_classes):\n",
        "        super().__init__()\n",
        "        # размерность входа: (3x256x256)\n",
        "        self.conv1 = nn.Sequential(\n",
        "            nn.Conv2d(in_channels=3, out_channels=16, kernel_size=3),\n",
        "            nn.ReLU(),\n",
        "            nn.MaxPool2d(kernel_size=2)\n",
        "        )\n",
        "        # размерность после слоя: (16x127x127)\n",
        "        self.conv2 = nn.Sequential(\n",
        "            nn.Conv2d(in_channels=16, out_channels=50, kernel_size=3),\n",
        "            nn.ReLU(),\n",
        "            nn.MaxPool2d(kernel_size=2)\n",
        "        )\n",
        "        # размерность после слоя: (16x62x62)\n",
        "        self.conv3 = nn.Sequential(\n",
        "            nn.Conv2d(in_channels=50, out_channels=80, kernel_size=3),\n",
        "            nn.ReLU(),\n",
        "            nn.MaxPool2d(kernel_size=2)\n",
        "        )\n",
        "        # размерность после слоя: (32x30x30)\n",
        "        self.conv4 = nn.Sequential(\n",
        "            nn.Conv2d(in_channels=80, out_channels=100, kernel_size=3),\n",
        "            nn.ReLU(),\n",
        "            nn.MaxPool2d(kernel_size=2)\n",
        "        )\n",
        "        # размерность после слоя: (64x14x14)\n",
        "        self.conv5 = nn.Sequential(\n",
        "            nn.Conv2d(in_channels=100, out_channels=120, kernel_size=3),\n",
        "            nn.ReLU(),\n",
        "            nn.MaxPool2d(kernel_size=2)\n",
        "        )\n",
        "        # размерность после слоя: (96x6x6)\n",
        "        # полносвязный классификатор должен знать, вектор какой размерности будет на выходе сверточной части, \n",
        "        # поэтому необходимо следить за размерностями тензоров\n",
        "        self.linear1 = nn.Linear(120 * 4 * 4, 200)\n",
        "        self.linear2 = nn.Linear(200, n_classes)\n",
        "\n",
        "    def forward(self, x):\n",
        "        x = self.conv1(x)\n",
        "        x = self.conv2(x)\n",
        "        x = self.conv3(x)\n",
        "        x = self.conv4(x)\n",
        "        x = self.conv5(x)\n",
        "        # преобразование в одномерный вектор\n",
        "        x = x.view(x.size(0), -1)\n",
        "        x = self.linear1(x)\n",
        "        x = self.linear2(x)\n",
        "        return x"
      ],
      "execution_count": 0,
      "outputs": []
    },
    {
      "cell_type": "code",
      "metadata": {
        "id": "gqaE2ozaYYKj",
        "colab_type": "code",
        "outputId": "42f76417-fb74-4b4e-97c4-e64325397a7b",
        "colab": {
          "base_uri": "https://localhost:8080/",
          "height": 545
        }
      },
      "source": [
        "from torchsummary import summary\n",
        "\n",
        "summary(ShallowCNN(n_classes=120).cuda(), (3, 196, 196))"
      ],
      "execution_count": 0,
      "outputs": [
        {
          "output_type": "stream",
          "text": [
            "----------------------------------------------------------------\n",
            "        Layer (type)               Output Shape         Param #\n",
            "================================================================\n",
            "            Conv2d-1         [-1, 16, 194, 194]             448\n",
            "              ReLU-2         [-1, 16, 194, 194]               0\n",
            "         MaxPool2d-3           [-1, 16, 97, 97]               0\n",
            "            Conv2d-4           [-1, 50, 95, 95]           7,250\n",
            "              ReLU-5           [-1, 50, 95, 95]               0\n",
            "         MaxPool2d-6           [-1, 50, 47, 47]               0\n",
            "            Conv2d-7           [-1, 80, 45, 45]          36,080\n",
            "              ReLU-8           [-1, 80, 45, 45]               0\n",
            "         MaxPool2d-9           [-1, 80, 22, 22]               0\n",
            "           Conv2d-10          [-1, 100, 20, 20]          72,100\n",
            "             ReLU-11          [-1, 100, 20, 20]               0\n",
            "        MaxPool2d-12          [-1, 100, 10, 10]               0\n",
            "           Conv2d-13            [-1, 120, 8, 8]         108,120\n",
            "             ReLU-14            [-1, 120, 8, 8]               0\n",
            "        MaxPool2d-15            [-1, 120, 4, 4]               0\n",
            "           Linear-16                  [-1, 200]         384,200\n",
            "           Linear-17                  [-1, 120]          24,120\n",
            "================================================================\n",
            "Total params: 632,318\n",
            "Trainable params: 632,318\n",
            "Non-trainable params: 0\n",
            "----------------------------------------------------------------\n",
            "Input size (MB): 0.44\n",
            "Forward/backward pass size (MB): 21.65\n",
            "Params size (MB): 2.41\n",
            "Estimated Total Size (MB): 24.51\n",
            "----------------------------------------------------------------\n"
          ],
          "name": "stdout"
        }
      ]
    },
    {
      "cell_type": "code",
      "metadata": {
        "id": "jTxpyltiprhG",
        "colab_type": "code",
        "colab": {}
      },
      "source": [
        "train_loader = DataLoader(train_dataset, batch_size=64, shuffle=True)\n",
        "val_loader = DataLoader(val_dataset, batch_size=64)\n",
        "test_loader = DataLoader(test_dataset, batch_size=64)\n",
        "\n",
        "loss_function = nn.CrossEntropyLoss()"
      ],
      "execution_count": 0,
      "outputs": []
    },
    {
      "cell_type": "code",
      "metadata": {
        "id": "Pa1yLOGt95KW",
        "colab_type": "code",
        "colab": {}
      },
      "source": [
        "from fastprogress import master_bar, progress_bar\n",
        "\n",
        "\n",
        "def train_net(net, train_loader, val_loader, loss_function, num_epochs, lr):\n",
        "    \n",
        "    # для построения графиков\n",
        "    history = {\n",
        "        'loss': [],\n",
        "        'acc': [],\n",
        "        'val_loss': [],\n",
        "        'val_acc': []\n",
        "    }\n",
        "    # для логгирования\n",
        "    log_template = \"Epoch {ep:03d}: train_loss={t_loss:0.4f} val_loss={v_loss:0.4f} train_acc={t_acc:0.4f} val_acc ={v_acc:0.4f}\"\n",
        "    \n",
        "    optimizer = torch.optim.Adam(net.parameters(), lr=lr)\n",
        "    \n",
        "    print(\"Training\")\n",
        "    epoch_bar = master_bar(range(num_epochs), order=['pb1', 'pb2', 'text'])\n",
        "    for epoch in epoch_bar:\n",
        "        # статистики во время обучения\n",
        "        running_loss = 0.0\n",
        "        running_corrects = 0\n",
        "        processed_data = 0\n",
        "        \n",
        "        net.train()\n",
        "        for images, labels in progress_bar(train_loader, total=len(train_loader), parent=epoch_bar):\n",
        "            images = images.cuda()\n",
        "            labels = labels.cuda()\n",
        "            optimizer.zero_grad()\n",
        "            \n",
        "            outputs = net(images)\n",
        "            loss = loss_function(outputs, labels)\n",
        "            loss.backward()\n",
        "            optimizer.step()\n",
        "            \n",
        "            # статистики во время обучения\n",
        "            preds = torch.argmax(outputs, 1)\n",
        "            running_loss += loss.item() * images.size(0)\n",
        "            running_corrects += torch.sum(preds == labels.data)\n",
        "            processed_data += images.size(0)\n",
        "            \n",
        "            epoch_bar.child.comment = f\"loss={(running_loss / processed_data):0.4f} acc={(running_corrects.cpu().numpy() / processed_data):0.4f}\"\n",
        "        \n",
        "        # статистики во время обучения\n",
        "        train_loss = running_loss / processed_data\n",
        "        train_acc = running_corrects.cpu().numpy() / processed_data\n",
        "        \n",
        "        running_loss = 0.0\n",
        "        running_corrects = 0\n",
        "        processed_data = 0\n",
        "        \n",
        "        net.eval()\n",
        "        for images, labels in progress_bar(val_loader, total=len(val_loader), parent=epoch_bar):\n",
        "            images = images.cuda()\n",
        "            labels = labels.cuda()\n",
        "            \n",
        "            outputs = net(images)\n",
        "            loss = loss_function(outputs, labels)\n",
        "            \n",
        "            preds = torch.argmax(outputs, 1)\n",
        "            running_loss += loss.item() * images.size(0)\n",
        "            running_corrects += torch.sum(preds == labels.data)\n",
        "            processed_data += images.size(0)\n",
        "            \n",
        "            epoch_bar.child.comment = f\"val_loss={(running_loss / processed_data):0.4f} val_acc={(running_corrects.cpu().numpy() / processed_data):0.4f}\"\n",
        "        \n",
        "        val_loss = running_loss / processed_data\n",
        "        val_acc = running_corrects.cpu().numpy() / processed_data\n",
        "        # сохраняем значения текущей эпохи\n",
        "        history['loss'].append(train_loss)\n",
        "        history['acc'].append(train_acc)\n",
        "        history['val_loss'].append(val_loss)\n",
        "        history['val_acc'].append(val_acc)\n",
        "        \n",
        "        epoch_bar.comment = f\"loss={train_loss:0.4f} acc={train_acc:0.4f} val_loss={val_loss:0.4f} val_acc={val_acc:0.4f}\"\n",
        "        epoch_bar.write(log_template.format(ep=epoch+1, t_loss=train_loss, v_loss=val_loss, t_acc=train_acc, v_acc=val_acc))\n",
        "    \n",
        "    return history"
      ],
      "execution_count": 0,
      "outputs": []
    },
    {
      "cell_type": "code",
      "metadata": {
        "id": "RY90PG2gSy1T",
        "colab_type": "code",
        "colab": {}
      },
      "source": [
        "def predict(net, test_loader):\n",
        "    probs = []\n",
        "    net.eval()\n",
        "    print(\"Predicting\")\n",
        "    for batch in progress_bar(test_loader, total=len(test_loader)):\n",
        "        if isinstance(batch, list):\n",
        "            images, _ = batch\n",
        "        else:\n",
        "            images = batch\n",
        "        images = images.cuda()\n",
        "        out = net(images)\n",
        "        out = nn.Softmax(dim=1)(out)\n",
        "        probs.append(out.cpu().detach().numpy())\n",
        "\n",
        "    probs = np.concatenate(probs)\n",
        "    return probs"
      ],
      "execution_count": 0,
      "outputs": []
    },
    {
      "cell_type": "code",
      "metadata": {
        "id": "nvIT-ueKVV2x",
        "colab_type": "code",
        "colab": {}
      },
      "source": [
        "from torch import nn\n",
        "\n",
        "class Linear(nn.Module):\n",
        "    \n",
        "    def __init__(self, n_classes):\n",
        "        super().__init__()\n",
        "        self.ln1 = nn.Linear(n_classes, 2)\n",
        "\n",
        "    def forward(self, x):\n",
        "        x = self.ln1(x)\n",
        "        #x = self.ln6(x)\n",
        "        # преобразование в одномерный вектор\n",
        "        return x"
      ],
      "execution_count": 0,
      "outputs": []
    },
    {
      "cell_type": "code",
      "metadata": {
        "id": "sxJ0M7egXPqF",
        "colab_type": "code",
        "outputId": "027bce01-f3c1-49b9-b420-98169e588af4",
        "colab": {
          "base_uri": "https://localhost:8080/",
          "height": 233
        }
      },
      "source": [
        "from torchvision import models\n",
        "\n",
        "mylinnet = Linear(512)\n",
        "mynet = models.resnet18(pretrained=True)\n",
        "mynet.fc = mylinnet\n",
        "mynet = mynet.cuda()\n",
        "history = train_net(mynet, train_loader, val_loader, loss_function, num_epochs=7, lr=1e-5)"
      ],
      "execution_count": 16,
      "outputs": [
        {
          "output_type": "stream",
          "text": [
            "Downloading: \"https://download.pytorch.org/models/resnet18-5c106cde.pth\" to /root/.cache/torch/checkpoints/resnet18-5c106cde.pth\n",
            "100%|██████████| 44.7M/44.7M [00:01<00:00, 40.8MB/s]\n"
          ],
          "name": "stderr"
        },
        {
          "output_type": "stream",
          "text": [
            "Training\n"
          ],
          "name": "stdout"
        },
        {
          "output_type": "display_data",
          "data": {
            "text/html": [
              "Epoch 001: train_loss=0.3037 val_loss=0.3460 train_acc=0.9200 val_acc =0.8690<p>Epoch 002: train_loss=0.1080 val_loss=0.2622 train_acc=0.9846 val_acc =0.9034<p>Epoch 003: train_loss=0.0462 val_loss=0.2375 train_acc=0.9958 val_acc =0.9103<p>Epoch 004: train_loss=0.0233 val_loss=0.2309 train_acc=0.9986 val_acc =0.9143<p>Epoch 005: train_loss=0.0137 val_loss=0.2576 train_acc=0.9995 val_acc =0.9103<p>Epoch 006: train_loss=0.0098 val_loss=0.2315 train_acc=0.9995 val_acc =0.9271<p>Epoch 007: train_loss=0.0066 val_loss=0.2414 train_acc=1.0000 val_acc =0.9271"
            ],
            "text/plain": [
              "<IPython.core.display.HTML object>"
            ]
          },
          "metadata": {
            "tags": []
          }
        }
      ]
    },
    {
      "cell_type": "code",
      "metadata": {
        "id": "u9bT4o5pS1kZ",
        "colab_type": "code",
        "outputId": "1ea4d1cd-ae63-4c71-bed8-a1f5caf969ae",
        "colab": {
          "base_uri": "https://localhost:8080/",
          "height": 562
        }
      },
      "source": [
        "from matplotlib import pyplot as plt\n",
        "with plt.xkcd():\n",
        "    fig = plt.figure(figsize=(15, 8))\n",
        "    plt.plot(history['loss'], label='loss')\n",
        "    plt.plot(history['val_loss'], label='val_loss')\n",
        "    plt.xlabel(\"Epoch\", fontsize='16')\n",
        "    plt.ylabel(\"loss\", fontsize='16')\n",
        "    plt.legend(fontsize='large')\n",
        "    plt.show()"
      ],
      "execution_count": 18,
      "outputs": [
        {
          "output_type": "stream",
          "text": [
            "findfont: Font family ['xkcd', 'xkcd Script', 'Humor Sans', 'Comic Sans MS'] not found. Falling back to DejaVu Sans.\n",
            "findfont: Font family ['xkcd', 'xkcd Script', 'Humor Sans', 'Comic Sans MS'] not found. Falling back to DejaVu Sans.\n",
            "findfont: Font family ['xkcd', 'xkcd Script', 'Humor Sans', 'Comic Sans MS'] not found. Falling back to DejaVu Sans.\n"
          ],
          "name": "stderr"
        },
        {
          "output_type": "display_data",
          "data": {
            "image/png": "[encoded data removed]",
            "text/plain": [
              "<Figure size 1080x576 with 1 Axes>"
            ]
          },
          "metadata": {
            "tags": []
          }
        }
      ]
    },
    {
      "cell_type": "code",
      "metadata": {
        "id": "BF1ozOtqdx8o",
        "colab_type": "code",
        "outputId": "e0672b74-56ea-4c7e-bdd7-f7378eae2c9e",
        "colab": {
          "base_uri": "https://localhost:8080/",
          "height": 510
        }
      },
      "source": [
        "with plt.xkcd():\n",
        "    fig = plt.figure(figsize=(15, 8))\n",
        "    plt.plot(history['acc'], label='acc')\n",
        "    plt.plot(history['val_acc'], label='val_acc')\n",
        "    plt.xlabel(\"Epoch\", fontsize='16')\n",
        "    plt.ylabel(\"accuracy\", fontsize='16')\n",
        "    plt.legend(fontsize='large')\n",
        "    plt.show()"
      ],
      "execution_count": 19,
      "outputs": [
        {
          "output_type": "display_data",
          "data": {
            "image/png": "[encoded data removed]",
            "text/plain": [
              "<Figure size 1080x576 with 1 Axes>"
            ]
          },
          "metadata": {
            "tags": []
          }
        }
      ]
    },
    {
      "cell_type": "code",
      "metadata": {
        "id": "DaI0LwnsrqQ7",
        "colab_type": "code",
        "outputId": "8849a1a1-cbf2-423e-b403-ca4103b241df",
        "colab": {
          "base_uri": "https://localhost:8080/",
          "height": 228
        }
      },
      "source": [
        "from sklearn.metrics import accuracy_score, classification_report\n",
        "\n",
        "train_eval_loader = DataLoader(train_dataset, batch_size=64)\n",
        "probs_train = predict(mynet, train_eval_loader)\n",
        "pred_train = np.argmax(probs_train, axis=1)\n",
        "true_train = train_dataset.label_encoder.transform(train_dataset.labels)\n",
        "\n",
        "print(f\"Доля правильных ответов (accuracy) на трейне: {accuracy_score(true_train, pred_train)*100}%\")\n",
        "print(classification_report(true_train, pred_train, target_names=train_dataset.label_encoder.classes_))"
      ],
      "execution_count": 21,
      "outputs": [
        {
          "output_type": "stream",
          "text": [
            "Predicting\n"
          ],
          "name": "stdout"
        },
        {
          "output_type": "display_data",
          "data": {
            "text/html": [
              "\n",
              "    <div>\n",
              "        <style>\n",
              "            /* Turns off some styling */\n",
              "            progress {\n",
              "                /* gets rid of default border in Firefox and Opera. */\n",
              "                border: none;\n",
              "                /* Needs to be in here for Safari polyfill so background images work as expected. */\n",
              "                background-size: auto;\n",
              "            }\n",
              "            .progress-bar-interrupted, .progress-bar-interrupted::-webkit-progress-bar {\n",
              "                background: #F44336;\n",
              "            }\n",
              "        </style>\n",
              "      <progress value='131' class='' max='131', style='width:300px; height:20px; vertical-align: middle;'></progress>\n",
              "      100.00% [131/131 00:24<00:00]\n",
              "    </div>\n",
              "    "
            ],
            "text/plain": [
              "<IPython.core.display.HTML object>"
            ]
          },
          "metadata": {
            "tags": []
          }
        },
        {
          "output_type": "stream",
          "text": [
            "Доля правильных ответов (accuracy) на трейне: 100.0%\n",
            "              precision    recall  f1-score   support\n",
            "\n",
            "        real       1.00      1.00      1.00      1223\n",
            "       spoof       1.00      1.00      1.00      7111\n",
            "\n",
            "    accuracy                           1.00      8334\n",
            "   macro avg       1.00      1.00      1.00      8334\n",
            "weighted avg       1.00      1.00      1.00      8334\n",
            "\n"
          ],
          "name": "stdout"
        }
      ]
    },
    {
      "cell_type": "code",
      "metadata": {
        "id": "bqjAY6imkBIQ",
        "colab_type": "code",
        "outputId": "ff633c36-dc9c-433b-8b98-b653cb4f25b4",
        "colab": {
          "base_uri": "https://localhost:8080/",
          "height": 228
        }
      },
      "source": [
        "probs_val = predict(mynet, val_loader)\n",
        "pred_val = np.argmax(probs_val, axis=1)\n",
        "true_val = train_dataset.label_encoder.transform(val_dataset.labels)\n",
        "\n",
        "print(f\"Доля правильных ответов (accuracy) на валидации: {accuracy_score(true_val, pred_val)*100}%\")\n",
        "print(classification_report(true_val, pred_val, target_names=train_dataset.label_encoder.classes_))"
      ],
      "execution_count": 23,
      "outputs": [
        {
          "output_type": "stream",
          "text": [
            "Predicting\n"
          ],
          "name": "stdout"
        },
        {
          "output_type": "display_data",
          "data": {
            "text/html": [
              "\n",
              "    <div>\n",
              "        <style>\n",
              "            /* Turns off some styling */\n",
              "            progress {\n",
              "                /* gets rid of default border in Firefox and Opera. */\n",
              "                border: none;\n",
              "                /* Needs to be in here for Safari polyfill so background images work as expected. */\n",
              "                background-size: auto;\n",
              "            }\n",
              "            .progress-bar-interrupted, .progress-bar-interrupted::-webkit-progress-bar {\n",
              "                background: #F44336;\n",
              "            }\n",
              "        </style>\n",
              "      <progress value='16' class='' max='16', style='width:300px; height:20px; vertical-align: middle;'></progress>\n",
              "      100.00% [16/16 00:03<00:00]\n",
              "    </div>\n",
              "    "
            ],
            "text/plain": [
              "<IPython.core.display.HTML object>"
            ]
          },
          "metadata": {
            "tags": []
          }
        },
        {
          "output_type": "stream",
          "text": [
            "Доля правильных ответов (accuracy) на валидации: 92.70935960591133%\n",
            "              precision    recall  f1-score   support\n",
            "\n",
            "        real       0.95      0.85      0.90       373\n",
            "       spoof       0.92      0.97      0.94       642\n",
            "\n",
            "    accuracy                           0.93      1015\n",
            "   macro avg       0.93      0.91      0.92      1015\n",
            "weighted avg       0.93      0.93      0.93      1015\n",
            "\n"
          ],
          "name": "stdout"
        }
      ]
    },
    {
      "cell_type": "code",
      "metadata": {
        "id": "qTDr0QzHruNG",
        "colab_type": "code",
        "outputId": "ec681b97-2863-4507-d2b7-56894b413090",
        "colab": {
          "base_uri": "https://localhost:8080/",
          "height": 228
        }
      },
      "source": [
        "probs_test = predict(mynet, test_loader)\n",
        "pred_test = np.argmax(probs_test, axis=1)\n",
        "true_test = train_dataset.label_encoder.transform([file.parent.name for file in test_dataset.files])\n",
        "\n",
        "print(f\"Доля правильных ответов (accuracy) на тесте: {accuracy_score(true_test, pred_test)*100}%\")\n",
        "print(classification_report(true_test, pred_test, target_names=train_dataset.label_encoder.classes_))"
      ],
      "execution_count": 25,
      "outputs": [
        {
          "output_type": "stream",
          "text": [
            "Predicting\n"
          ],
          "name": "stdout"
        },
        {
          "output_type": "display_data",
          "data": {
            "text/html": [
              "\n",
              "    <div>\n",
              "        <style>\n",
              "            /* Turns off some styling */\n",
              "            progress {\n",
              "                /* gets rid of default border in Firefox and Opera. */\n",
              "                border: none;\n",
              "                /* Needs to be in here for Safari polyfill so background images work as expected. */\n",
              "                background-size: auto;\n",
              "            }\n",
              "            .progress-bar-interrupted, .progress-bar-interrupted::-webkit-progress-bar {\n",
              "                background: #F44336;\n",
              "            }\n",
              "        </style>\n",
              "      <progress value='16' class='' max='16', style='width:300px; height:20px; vertical-align: middle;'></progress>\n",
              "      100.00% [16/16 00:02<00:00]\n",
              "    </div>\n",
              "    "
            ],
            "text/plain": [
              "<IPython.core.display.HTML object>"
            ]
          },
          "metadata": {
            "tags": []
          }
        },
        {
          "output_type": "stream",
          "text": [
            "Доля правильных ответов (accuracy) на тесте: 92.70935960591133%\n",
            "              precision    recall  f1-score   support\n",
            "\n",
            "        real       0.95      0.85      0.90       373\n",
            "       spoof       0.92      0.97      0.94       642\n",
            "\n",
            "    accuracy                           0.93      1015\n",
            "   macro avg       0.93      0.91      0.92      1015\n",
            "weighted avg       0.93      0.93      0.93      1015\n",
            "\n"
          ],
          "name": "stdout"
        }
      ]
    },
    {
      "cell_type": "code",
      "metadata": {
        "id": "-7FQpeISlZ_K",
        "colab_type": "code",
        "colab": {}
      },
      "source": [
        "from pathlib import Path\n",
        "from PIL import Image\n",
        "import random\n",
        "\n",
        "image_view_files = list(Path('./gdrive/My Drive/Colab Notebooks/Printed_attack/train/spoof').glob('*.png'))\n",
        "\n",
        "images = list()\n",
        "images.append(random.choice(image_view_files))"
      ],
      "execution_count": 0,
      "outputs": []
    },
    {
      "cell_type": "code",
      "metadata": {
        "id": "nICf2lFi0cCr",
        "colab_type": "code",
        "colab": {
          "base_uri": "https://localhost:8080/",
          "height": 144
        },
        "outputId": "4126af73-54bb-40e3-d764-34240876d246"
      },
      "source": [
        "import numpy as np\n",
        "\n",
        "test_dataset = CustomDataset(files=images, mode='test', rescale_size=196)\n",
        "test_loader = DataLoader(test_dataset, batch_size=128, num_workers=2, pin_memory=True)\n",
        "probs_test = predict(mynet, test_loader)\n",
        "print(probs_test)\n",
        "pred_test = np.argmax(probs_test, axis=1)\n",
        "print(pred_test)\n",
        "if (pred_test[0] == 1):\n",
        "   print(\"Spoof\")\n",
        "else:\n",
        "   print(\"Real\")"
      ],
      "execution_count": 42,
      "outputs": [
        {
          "output_type": "stream",
          "text": [
            "Loading test files\n"
          ],
          "name": "stdout"
        },
        {
          "output_type": "display_data",
          "data": {
            "text/html": [
              "\n",
              "    <div>\n",
              "        <style>\n",
              "            /* Turns off some styling */\n",
              "            progress {\n",
              "                /* gets rid of default border in Firefox and Opera. */\n",
              "                border: none;\n",
              "                /* Needs to be in here for Safari polyfill so background images work as expected. */\n",
              "                background-size: auto;\n",
              "            }\n",
              "            .progress-bar-interrupted, .progress-bar-interrupted::-webkit-progress-bar {\n",
              "                background: #F44336;\n",
              "            }\n",
              "        </style>\n",
              "      <progress value='1' class='' max='1', style='width:300px; height:20px; vertical-align: middle;'></progress>\n",
              "      100.00% [1/1 00:00<00:00]\n",
              "    </div>\n",
              "    "
            ],
            "text/plain": [
              "<IPython.core.display.HTML object>"
            ]
          },
          "metadata": {
            "tags": []
          }
        },
        {
          "output_type": "stream",
          "text": [
            "Predicting\n"
          ],
          "name": "stdout"
        },
        {
          "output_type": "display_data",
          "data": {
            "text/html": [
              "\n",
              "    <div>\n",
              "        <style>\n",
              "            /* Turns off some styling */\n",
              "            progress {\n",
              "                /* gets rid of default border in Firefox and Opera. */\n",
              "                border: none;\n",
              "                /* Needs to be in here for Safari polyfill so background images work as expected. */\n",
              "                background-size: auto;\n",
              "            }\n",
              "            .progress-bar-interrupted, .progress-bar-interrupted::-webkit-progress-bar {\n",
              "                background: #F44336;\n",
              "            }\n",
              "        </style>\n",
              "      <progress value='1' class='' max='1', style='width:300px; height:20px; vertical-align: middle;'></progress>\n",
              "      100.00% [1/1 00:00<00:00]\n",
              "    </div>\n",
              "    "
            ],
            "text/plain": [
              "<IPython.core.display.HTML object>"
            ]
          },
          "metadata": {
            "tags": []
          }
        },
        {
          "output_type": "stream",
          "text": [
            "[[2.6864494e-04 9.9973136e-01]]\n",
            "[1]\n",
            "Spoof\n"
          ],
          "name": "stdout"
        }
      ]
    }
  ]
}